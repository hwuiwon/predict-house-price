{
  "nbformat": 4,
  "nbformat_minor": 0,
  "metadata": {
    "colab": {
      "name": "Predict House Price",
      "provenance": [],
      "collapsed_sections": [],
      "authorship_tag": "ABX9TyNE93S+nn+nQn6WwYInbAo3",
      "include_colab_link": true
    },
    "kernelspec": {
      "name": "python3",
      "display_name": "Python 3"
    },
    "accelerator": "GPU"
  },
  "cells": [
    {
      "cell_type": "markdown",
      "metadata": {
        "id": "view-in-github",
        "colab_type": "text"
      },
      "source": [
        "<a href=\"https://colab.research.google.com/github/hwuiwon/predict-house-price/blob/master/Predict_House_Price.ipynb\" target=\"_parent\"><img src=\"https://colab.research.google.com/assets/colab-badge.svg\" alt=\"Open In Colab\"/></a>"
      ]
    },
    {
      "cell_type": "markdown",
      "metadata": {
        "id": "tc_QpiEJOzhf",
        "colab_type": "text"
      },
      "source": [
        "# **predict-house-price**\n",
        "\n",
        "This project will utilize Keras' Boston housing price regression [dataset](https://keras.io/datasets).\n",
        "\n",
        "[Github Repo](https://github.com/hwuiwon/predict-house-price)"
      ]
    },
    {
      "cell_type": "markdown",
      "metadata": {
        "id": "SUqGa9YPPLl5",
        "colab_type": "text"
      },
      "source": [
        "## **Importing Required Libraries**"
      ]
    },
    {
      "cell_type": "code",
      "metadata": {
        "id": "vyAyYbZ6PY5y",
        "colab_type": "code",
        "colab": {}
      },
      "source": [
        "import numpy as np\n",
        "import pandas as pd\n",
        "import matplotlib.pyplot as plt\n",
        "import seaborn as sns"
      ],
      "execution_count": 0,
      "outputs": []
    },
    {
      "cell_type": "markdown",
      "metadata": {
        "id": "91haUK25Poll",
        "colab_type": "text"
      },
      "source": [
        "## **Loading Data**"
      ]
    },
    {
      "cell_type": "markdown",
      "metadata": {
        "id": "Rkdv9jKFQaQ2",
        "colab_type": "text"
      },
      "source": [
        "We will load the data by using the method Keras recommends."
      ]
    },
    {
      "cell_type": "code",
      "metadata": {
        "id": "nwDtJQqDQERP",
        "colab_type": "code",
        "colab": {}
      },
      "source": [
        "from keras.datasets import boston_housing\n",
        "\n",
        "(x_train, y_train), (x_test, y_test) = boston_housing.load_data()"
      ],
      "execution_count": 0,
      "outputs": []
    },
    {
      "cell_type": "code",
      "metadata": {
        "id": "KhiSdj5wRHYT",
        "colab_type": "code",
        "outputId": "87f7a441-3a19-4c0b-da9d-276a1bac4379",
        "colab": {
          "base_uri": "https://localhost:8080/",
          "height": 53
        }
      },
      "source": [
        "print(x_train.shape)\n",
        "print(x_test.shape)"
      ],
      "execution_count": 29,
      "outputs": [
        {
          "output_type": "stream",
          "text": [
            "(404, 13)\n",
            "(102, 13)\n"
          ],
          "name": "stdout"
        }
      ]
    },
    {
      "cell_type": "markdown",
      "metadata": {
        "id": "111JouKiRR4w",
        "colab_type": "text"
      },
      "source": [
        "We can see that there are total 506 house data in the set with 13 features.\n",
        "\n",
        "> **CRIM**: Per capita crime rate by town\n",
        "<br>**ZN**: Proportion of residential land zoned for lots larger than 25,000 sq.ft.\n",
        "<br>**INDUS**: Proportion of non-retail business acres per town.\n",
        "<br>**CHAS**: Charles River dummy variable (this is equal to 1 if tract bounds river; 0 otherwise)\n",
        "<br>**NOX**: Nitric oxides concentration (parts per 10 million)\n",
        "<br>**RM**: Average number of rooms per dwelling\n",
        "<br>**AGE**: Proportion of owner-occupied units built prior to 1940\n",
        "<br>**DIS**: Weighted distances to five Boston employment centers\n",
        "<br>**RAD**: Index of accessibility to radial highways\n",
        "<br>**TAX**: Full-value property-tax rate per \\$10,000\n",
        "<br>**PTRATIO**: Pupil-teacher ratio by town\n",
        "<br>**B**: Calculated as 1000(Bk — 0.63)², where Bk is the proportion of people of African American descent by town\n",
        "<br>**LSTAT**: Percentage lower status of the population\n",
        "<br>**MEDV**: Median value of owner-occupied homes in \\$1000\n",
        "\n",
        "We will convert array to DataFrame to see labels with values."
      ]
    },
    {
      "cell_type": "code",
      "metadata": {
        "id": "ecBTZM3-uKbK",
        "colab_type": "code",
        "outputId": "61a0d57a-3701-405f-f3ee-ca6d24b6ac70",
        "colab": {
          "base_uri": "https://localhost:8080/",
          "height": 204
        }
      },
      "source": [
        "boston = pd.DataFrame(x_train, \n",
        "                  index=[i for i in range(x_train.shape[0])], \n",
        "                  columns=['CRIM', 'ZN', 'INDUS', 'CHAS', 'NOX', 'RM', 'AGE',\n",
        "                           'DIS', 'RAD', 'TAX', 'PTRATIO', 'B', 'LSTAT'])\n",
        "boston['MEDV'] = y_train\n",
        "\n",
        "boston.head()"
      ],
      "execution_count": 30,
      "outputs": [
        {
          "output_type": "execute_result",
          "data": {
            "text/html": [
              "<div>\n",
              "<style scoped>\n",
              "    .dataframe tbody tr th:only-of-type {\n",
              "        vertical-align: middle;\n",
              "    }\n",
              "\n",
              "    .dataframe tbody tr th {\n",
              "        vertical-align: top;\n",
              "    }\n",
              "\n",
              "    .dataframe thead th {\n",
              "        text-align: right;\n",
              "    }\n",
              "</style>\n",
              "<table border=\"1\" class=\"dataframe\">\n",
              "  <thead>\n",
              "    <tr style=\"text-align: right;\">\n",
              "      <th></th>\n",
              "      <th>CRIM</th>\n",
              "      <th>ZN</th>\n",
              "      <th>INDUS</th>\n",
              "      <th>CHAS</th>\n",
              "      <th>NOX</th>\n",
              "      <th>RM</th>\n",
              "      <th>AGE</th>\n",
              "      <th>DIS</th>\n",
              "      <th>RAD</th>\n",
              "      <th>TAX</th>\n",
              "      <th>PTRATIO</th>\n",
              "      <th>B</th>\n",
              "      <th>LSTAT</th>\n",
              "      <th>MEDV</th>\n",
              "    </tr>\n",
              "  </thead>\n",
              "  <tbody>\n",
              "    <tr>\n",
              "      <th>0</th>\n",
              "      <td>1.23247</td>\n",
              "      <td>0.0</td>\n",
              "      <td>8.14</td>\n",
              "      <td>0.0</td>\n",
              "      <td>0.538</td>\n",
              "      <td>6.142</td>\n",
              "      <td>91.7</td>\n",
              "      <td>3.9769</td>\n",
              "      <td>4.0</td>\n",
              "      <td>307.0</td>\n",
              "      <td>21.0</td>\n",
              "      <td>396.90</td>\n",
              "      <td>18.72</td>\n",
              "      <td>15.2</td>\n",
              "    </tr>\n",
              "    <tr>\n",
              "      <th>1</th>\n",
              "      <td>0.02177</td>\n",
              "      <td>82.5</td>\n",
              "      <td>2.03</td>\n",
              "      <td>0.0</td>\n",
              "      <td>0.415</td>\n",
              "      <td>7.610</td>\n",
              "      <td>15.7</td>\n",
              "      <td>6.2700</td>\n",
              "      <td>2.0</td>\n",
              "      <td>348.0</td>\n",
              "      <td>14.7</td>\n",
              "      <td>395.38</td>\n",
              "      <td>3.11</td>\n",
              "      <td>42.3</td>\n",
              "    </tr>\n",
              "    <tr>\n",
              "      <th>2</th>\n",
              "      <td>4.89822</td>\n",
              "      <td>0.0</td>\n",
              "      <td>18.10</td>\n",
              "      <td>0.0</td>\n",
              "      <td>0.631</td>\n",
              "      <td>4.970</td>\n",
              "      <td>100.0</td>\n",
              "      <td>1.3325</td>\n",
              "      <td>24.0</td>\n",
              "      <td>666.0</td>\n",
              "      <td>20.2</td>\n",
              "      <td>375.52</td>\n",
              "      <td>3.26</td>\n",
              "      <td>50.0</td>\n",
              "    </tr>\n",
              "    <tr>\n",
              "      <th>3</th>\n",
              "      <td>0.03961</td>\n",
              "      <td>0.0</td>\n",
              "      <td>5.19</td>\n",
              "      <td>0.0</td>\n",
              "      <td>0.515</td>\n",
              "      <td>6.037</td>\n",
              "      <td>34.5</td>\n",
              "      <td>5.9853</td>\n",
              "      <td>5.0</td>\n",
              "      <td>224.0</td>\n",
              "      <td>20.2</td>\n",
              "      <td>396.90</td>\n",
              "      <td>8.01</td>\n",
              "      <td>21.1</td>\n",
              "    </tr>\n",
              "    <tr>\n",
              "      <th>4</th>\n",
              "      <td>3.69311</td>\n",
              "      <td>0.0</td>\n",
              "      <td>18.10</td>\n",
              "      <td>0.0</td>\n",
              "      <td>0.713</td>\n",
              "      <td>6.376</td>\n",
              "      <td>88.4</td>\n",
              "      <td>2.5671</td>\n",
              "      <td>24.0</td>\n",
              "      <td>666.0</td>\n",
              "      <td>20.2</td>\n",
              "      <td>391.43</td>\n",
              "      <td>14.65</td>\n",
              "      <td>17.7</td>\n",
              "    </tr>\n",
              "  </tbody>\n",
              "</table>\n",
              "</div>"
            ],
            "text/plain": [
              "      CRIM    ZN  INDUS  CHAS    NOX  ...    TAX  PTRATIO       B  LSTAT  MEDV\n",
              "0  1.23247   0.0   8.14   0.0  0.538  ...  307.0     21.0  396.90  18.72  15.2\n",
              "1  0.02177  82.5   2.03   0.0  0.415  ...  348.0     14.7  395.38   3.11  42.3\n",
              "2  4.89822   0.0  18.10   0.0  0.631  ...  666.0     20.2  375.52   3.26  50.0\n",
              "3  0.03961   0.0   5.19   0.0  0.515  ...  224.0     20.2  396.90   8.01  21.1\n",
              "4  3.69311   0.0  18.10   0.0  0.713  ...  666.0     20.2  391.43  14.65  17.7\n",
              "\n",
              "[5 rows x 14 columns]"
            ]
          },
          "metadata": {
            "tags": []
          },
          "execution_count": 30
        }
      ]
    },
    {
      "cell_type": "code",
      "metadata": {
        "id": "A80i9LpXI4dH",
        "colab_type": "code",
        "outputId": "eeb65b7c-1a39-4e02-a10d-011fbe7fce79",
        "colab": {
          "base_uri": "https://localhost:8080/",
          "height": 297
        }
      },
      "source": [
        "# Generate descriptive statistics\n",
        "boston.describe().round(decimals=2)"
      ],
      "execution_count": 31,
      "outputs": [
        {
          "output_type": "execute_result",
          "data": {
            "text/html": [
              "<div>\n",
              "<style scoped>\n",
              "    .dataframe tbody tr th:only-of-type {\n",
              "        vertical-align: middle;\n",
              "    }\n",
              "\n",
              "    .dataframe tbody tr th {\n",
              "        vertical-align: top;\n",
              "    }\n",
              "\n",
              "    .dataframe thead th {\n",
              "        text-align: right;\n",
              "    }\n",
              "</style>\n",
              "<table border=\"1\" class=\"dataframe\">\n",
              "  <thead>\n",
              "    <tr style=\"text-align: right;\">\n",
              "      <th></th>\n",
              "      <th>CRIM</th>\n",
              "      <th>ZN</th>\n",
              "      <th>INDUS</th>\n",
              "      <th>CHAS</th>\n",
              "      <th>NOX</th>\n",
              "      <th>RM</th>\n",
              "      <th>AGE</th>\n",
              "      <th>DIS</th>\n",
              "      <th>RAD</th>\n",
              "      <th>TAX</th>\n",
              "      <th>PTRATIO</th>\n",
              "      <th>B</th>\n",
              "      <th>LSTAT</th>\n",
              "      <th>MEDV</th>\n",
              "    </tr>\n",
              "  </thead>\n",
              "  <tbody>\n",
              "    <tr>\n",
              "      <th>count</th>\n",
              "      <td>404.00</td>\n",
              "      <td>404.00</td>\n",
              "      <td>404.00</td>\n",
              "      <td>404.00</td>\n",
              "      <td>404.00</td>\n",
              "      <td>404.00</td>\n",
              "      <td>404.00</td>\n",
              "      <td>404.00</td>\n",
              "      <td>404.00</td>\n",
              "      <td>404.00</td>\n",
              "      <td>404.00</td>\n",
              "      <td>404.00</td>\n",
              "      <td>404.00</td>\n",
              "      <td>404.00</td>\n",
              "    </tr>\n",
              "    <tr>\n",
              "      <th>mean</th>\n",
              "      <td>3.75</td>\n",
              "      <td>11.48</td>\n",
              "      <td>11.10</td>\n",
              "      <td>0.06</td>\n",
              "      <td>0.56</td>\n",
              "      <td>6.27</td>\n",
              "      <td>69.01</td>\n",
              "      <td>3.74</td>\n",
              "      <td>9.44</td>\n",
              "      <td>405.90</td>\n",
              "      <td>18.48</td>\n",
              "      <td>354.78</td>\n",
              "      <td>12.74</td>\n",
              "      <td>22.40</td>\n",
              "    </tr>\n",
              "    <tr>\n",
              "      <th>std</th>\n",
              "      <td>9.24</td>\n",
              "      <td>23.77</td>\n",
              "      <td>6.81</td>\n",
              "      <td>0.24</td>\n",
              "      <td>0.12</td>\n",
              "      <td>0.71</td>\n",
              "      <td>27.94</td>\n",
              "      <td>2.03</td>\n",
              "      <td>8.70</td>\n",
              "      <td>166.37</td>\n",
              "      <td>2.20</td>\n",
              "      <td>94.11</td>\n",
              "      <td>7.25</td>\n",
              "      <td>9.21</td>\n",
              "    </tr>\n",
              "    <tr>\n",
              "      <th>min</th>\n",
              "      <td>0.01</td>\n",
              "      <td>0.00</td>\n",
              "      <td>0.46</td>\n",
              "      <td>0.00</td>\n",
              "      <td>0.38</td>\n",
              "      <td>3.56</td>\n",
              "      <td>2.90</td>\n",
              "      <td>1.13</td>\n",
              "      <td>1.00</td>\n",
              "      <td>188.00</td>\n",
              "      <td>12.60</td>\n",
              "      <td>0.32</td>\n",
              "      <td>1.73</td>\n",
              "      <td>5.00</td>\n",
              "    </tr>\n",
              "    <tr>\n",
              "      <th>25%</th>\n",
              "      <td>0.08</td>\n",
              "      <td>0.00</td>\n",
              "      <td>5.13</td>\n",
              "      <td>0.00</td>\n",
              "      <td>0.45</td>\n",
              "      <td>5.87</td>\n",
              "      <td>45.48</td>\n",
              "      <td>2.08</td>\n",
              "      <td>4.00</td>\n",
              "      <td>279.00</td>\n",
              "      <td>17.23</td>\n",
              "      <td>374.67</td>\n",
              "      <td>6.89</td>\n",
              "      <td>16.67</td>\n",
              "    </tr>\n",
              "    <tr>\n",
              "      <th>50%</th>\n",
              "      <td>0.27</td>\n",
              "      <td>0.00</td>\n",
              "      <td>9.69</td>\n",
              "      <td>0.00</td>\n",
              "      <td>0.54</td>\n",
              "      <td>6.20</td>\n",
              "      <td>78.50</td>\n",
              "      <td>3.14</td>\n",
              "      <td>5.00</td>\n",
              "      <td>330.00</td>\n",
              "      <td>19.10</td>\n",
              "      <td>391.25</td>\n",
              "      <td>11.40</td>\n",
              "      <td>20.75</td>\n",
              "    </tr>\n",
              "    <tr>\n",
              "      <th>75%</th>\n",
              "      <td>3.67</td>\n",
              "      <td>12.50</td>\n",
              "      <td>18.10</td>\n",
              "      <td>0.00</td>\n",
              "      <td>0.63</td>\n",
              "      <td>6.61</td>\n",
              "      <td>94.10</td>\n",
              "      <td>5.12</td>\n",
              "      <td>24.00</td>\n",
              "      <td>666.00</td>\n",
              "      <td>20.20</td>\n",
              "      <td>396.16</td>\n",
              "      <td>17.09</td>\n",
              "      <td>24.80</td>\n",
              "    </tr>\n",
              "    <tr>\n",
              "      <th>max</th>\n",
              "      <td>88.98</td>\n",
              "      <td>100.00</td>\n",
              "      <td>27.74</td>\n",
              "      <td>1.00</td>\n",
              "      <td>0.87</td>\n",
              "      <td>8.72</td>\n",
              "      <td>100.00</td>\n",
              "      <td>10.71</td>\n",
              "      <td>24.00</td>\n",
              "      <td>711.00</td>\n",
              "      <td>22.00</td>\n",
              "      <td>396.90</td>\n",
              "      <td>37.97</td>\n",
              "      <td>50.00</td>\n",
              "    </tr>\n",
              "  </tbody>\n",
              "</table>\n",
              "</div>"
            ],
            "text/plain": [
              "         CRIM      ZN   INDUS    CHAS  ...  PTRATIO       B   LSTAT    MEDV\n",
              "count  404.00  404.00  404.00  404.00  ...   404.00  404.00  404.00  404.00\n",
              "mean     3.75   11.48   11.10    0.06  ...    18.48  354.78   12.74   22.40\n",
              "std      9.24   23.77    6.81    0.24  ...     2.20   94.11    7.25    9.21\n",
              "min      0.01    0.00    0.46    0.00  ...    12.60    0.32    1.73    5.00\n",
              "25%      0.08    0.00    5.13    0.00  ...    17.23  374.67    6.89   16.67\n",
              "50%      0.27    0.00    9.69    0.00  ...    19.10  391.25   11.40   20.75\n",
              "75%      3.67   12.50   18.10    0.00  ...    20.20  396.16   17.09   24.80\n",
              "max     88.98  100.00   27.74    1.00  ...    22.00  396.90   37.97   50.00\n",
              "\n",
              "[8 rows x 14 columns]"
            ]
          },
          "metadata": {
            "tags": []
          },
          "execution_count": 31
        }
      ]
    },
    {
      "cell_type": "markdown",
      "metadata": {
        "id": "Po1aP1gHGPZB",
        "colab_type": "text"
      },
      "source": [
        "## **Analyzing relationships**"
      ]
    },
    {
      "cell_type": "markdown",
      "metadata": {
        "id": "7MDTfg1m4VLg",
        "colab_type": "text"
      },
      "source": [
        "We will now create a heatmap to plot the correlation matrix to see the relationships between the variables."
      ]
    },
    {
      "cell_type": "code",
      "metadata": {
        "id": "YS-pYIxP4hbM",
        "colab_type": "code",
        "outputId": "9cbca12e-24a2-404b-b0cd-0c647957a906",
        "colab": {
          "base_uri": "https://localhost:8080/",
          "height": 614
        }
      },
      "source": [
        "correlation_matrix = boston.corr().round(2)\n",
        "plt.figure(figsize=(12, 10))\n",
        "sns.heatmap(data=correlation_matrix, annot=True, annot_kws={\"fontsize\":10})"
      ],
      "execution_count": 32,
      "outputs": [
        {
          "output_type": "execute_result",
          "data": {
            "text/plain": [
              "<matplotlib.axes._subplots.AxesSubplot at 0x7f5503738438>"
            ]
          },
          "metadata": {
            "tags": []
          },
          "execution_count": 32
        },
        {
          "output_type": "display_data",
          "data": {
            "image/png": "[encoded data removed]",
            "text/plain": [
              "<Figure size 864x720 with 2 Axes>"
            ]
          },
          "metadata": {
            "tags": []
          }
        }
      ]
    },
    {
      "cell_type": "markdown",
      "metadata": {
        "id": "dC9alarG7FRd",
        "colab_type": "text"
      },
      "source": [
        "The correlation coefficient ranges from -1 to 1. If the absolute value is close to 1, it means that there is a strong positive correlation between the two variables and vice versa.\n",
        "\n",
        "The features of interest are the ones with a high correlation with the target variable 'MEDV'. In this case, we will pick 'RM' and 'LSTAT' as their absolute value is greater than 0.5."
      ]
    },
    {
      "cell_type": "code",
      "metadata": {
        "id": "eyu8I50guiHA",
        "colab_type": "code",
        "outputId": "d9a9b155-d8e8-4e7e-dec5-7be1798e7a66",
        "colab": {
          "base_uri": "https://localhost:8080/",
          "height": 333
        }
      },
      "source": [
        "g = sns.PairGrid(boston, y_vars=['MEDV'], x_vars=['RM', 'LSTAT'], height=4)\n",
        "g.map(sns.regplot)"
      ],
      "execution_count": 33,
      "outputs": [
        {
          "output_type": "execute_result",
          "data": {
            "text/plain": [
              "<seaborn.axisgrid.PairGrid at 0x7f55034f5ac8>"
            ]
          },
          "metadata": {
            "tags": []
          },
          "execution_count": 33
        },
        {
          "output_type": "display_data",
          "data": {
            "image/png": "[encoded data removed]",
            "text/plain": [
              "<Figure size 576x288 with 2 Axes>"
            ]
          },
          "metadata": {
            "tags": []
          }
        }
      ]
    },
    {
      "cell_type": "markdown",
      "metadata": {
        "id": "Oh96IvaK9ccV",
        "colab_type": "text"
      },
      "source": [
        "We will only include 'RM', 'LSTAT', and 'MEDV' in our data set for accuracy of our model."
      ]
    },
    {
      "cell_type": "code",
      "metadata": {
        "id": "nYTWds4p96Sr",
        "colab_type": "code",
        "colab": {}
      },
      "source": [
        "bostonT = pd.DataFrame(x_test, \n",
        "                  index=[i for i in range(x_test.shape[0])], \n",
        "                  columns=['CRIM', 'ZN', 'INDUS', 'CHAS', 'NOX', 'RM', 'AGE',\n",
        "                           'DIS', 'RAD', 'TAX', 'PTRATIO', 'B', 'LSTAT'])\n",
        "\n",
        "X_train = pd.DataFrame(np.c_[boston['RM'], boston['LSTAT']], columns = ['RM','LSTAT'])\n",
        "X_test = pd.DataFrame(np.c_[bostonT['RM'], bostonT['LSTAT']], columns = ['RM','LSTAT'])"
      ],
      "execution_count": 0,
      "outputs": []
    },
    {
      "cell_type": "markdown",
      "metadata": {
        "id": "uRiYJK1uGaA6",
        "colab_type": "text"
      },
      "source": [
        "## **Training the Model**"
      ]
    },
    {
      "cell_type": "markdown",
      "metadata": {
        "id": "AZu0SkJsLFUC",
        "colab_type": "text"
      },
      "source": [
        "We will train the model using LinearRegression from scikit-learn."
      ]
    },
    {
      "cell_type": "code",
      "metadata": {
        "id": "6KvPRJZPG_YG",
        "colab_type": "code",
        "outputId": "9dc4f15a-8b74-43a5-95f0-b4bd95bf1673",
        "colab": {
          "base_uri": "https://localhost:8080/",
          "height": 35
        }
      },
      "source": [
        "from sklearn.linear_model import LinearRegression\n",
        "\n",
        "model = LinearRegression()\n",
        "model.fit(X_train, y_train)"
      ],
      "execution_count": 35,
      "outputs": [
        {
          "output_type": "execute_result",
          "data": {
            "text/plain": [
              "LinearRegression(copy_X=True, fit_intercept=True, n_jobs=None, normalize=False)"
            ]
          },
          "metadata": {
            "tags": []
          },
          "execution_count": 35
        }
      ]
    },
    {
      "cell_type": "markdown",
      "metadata": {
        "id": "TxrZ9Hd0Mfqc",
        "colab_type": "text"
      },
      "source": [
        "We will check the coefficient and intercept of our linear regression model."
      ]
    },
    {
      "cell_type": "code",
      "metadata": {
        "id": "j8iQhpc5K_3x",
        "colab_type": "code",
        "outputId": "c0caa719-d18a-407c-ac5d-34a8ceb2a5a9",
        "colab": {
          "base_uri": "https://localhost:8080/",
          "height": 89
        }
      },
      "source": [
        "print(pd.DataFrame(model.coef_, X_train.columns, columns=['Coefficient']))\n",
        "print(model.intercept_)"
      ],
      "execution_count": 36,
      "outputs": [
        {
          "output_type": "stream",
          "text": [
            "       Coefficient\n",
            "RM        4.866252\n",
            "LSTAT    -0.636989\n",
            "0.01361359430417508\n"
          ],
          "name": "stdout"
        }
      ]
    },
    {
      "cell_type": "markdown",
      "metadata": {
        "id": "UQqpzWRKM28d",
        "colab_type": "text"
      },
      "source": [
        "## **Evaulating**"
      ]
    },
    {
      "cell_type": "markdown",
      "metadata": {
        "id": "WSDWcHwyMsGN",
        "colab_type": "text"
      },
      "source": [
        "We will now check the predicted values and the actual values."
      ]
    },
    {
      "cell_type": "code",
      "metadata": {
        "id": "eghGOoffLjqz",
        "colab_type": "code",
        "outputId": "e0a9a72f-959d-4b3e-d418-216ccb7d9e0c",
        "colab": {
          "base_uri": "https://localhost:8080/",
          "height": 204
        }
      },
      "source": [
        "y_pred = model.predict(X_test)\n",
        "pred = pd.DataFrame({'Actual': y_test, 'Predicted': y_pred})\n",
        "pred.head()"
      ],
      "execution_count": 37,
      "outputs": [
        {
          "output_type": "execute_result",
          "data": {
            "text/html": [
              "<div>\n",
              "<style scoped>\n",
              "    .dataframe tbody tr th:only-of-type {\n",
              "        vertical-align: middle;\n",
              "    }\n",
              "\n",
              "    .dataframe tbody tr th {\n",
              "        vertical-align: top;\n",
              "    }\n",
              "\n",
              "    .dataframe thead th {\n",
              "        text-align: right;\n",
              "    }\n",
              "</style>\n",
              "<table border=\"1\" class=\"dataframe\">\n",
              "  <thead>\n",
              "    <tr style=\"text-align: right;\">\n",
              "      <th></th>\n",
              "      <th>Actual</th>\n",
              "      <th>Predicted</th>\n",
              "    </tr>\n",
              "  </thead>\n",
              "  <tbody>\n",
              "    <tr>\n",
              "      <th>0</th>\n",
              "      <td>7.2</td>\n",
              "      <td>12.818543</td>\n",
              "    </tr>\n",
              "    <tr>\n",
              "      <th>1</th>\n",
              "      <td>18.8</td>\n",
              "      <td>18.462167</td>\n",
              "    </tr>\n",
              "    <tr>\n",
              "      <th>2</th>\n",
              "      <td>19.0</td>\n",
              "      <td>22.933857</td>\n",
              "    </tr>\n",
              "    <tr>\n",
              "      <th>3</th>\n",
              "      <td>27.0</td>\n",
              "      <td>26.924248</td>\n",
              "    </tr>\n",
              "    <tr>\n",
              "      <th>4</th>\n",
              "      <td>22.2</td>\n",
              "      <td>24.423753</td>\n",
              "    </tr>\n",
              "  </tbody>\n",
              "</table>\n",
              "</div>"
            ],
            "text/plain": [
              "   Actual  Predicted\n",
              "0     7.2  12.818543\n",
              "1    18.8  18.462167\n",
              "2    19.0  22.933857\n",
              "3    27.0  26.924248\n",
              "4    22.2  24.423753"
            ]
          },
          "metadata": {
            "tags": []
          },
          "execution_count": 37
        }
      ]
    },
    {
      "cell_type": "markdown",
      "metadata": {
        "id": "0UtK2m8MRbuL",
        "colab_type": "text"
      },
      "source": [
        "We will plot the y_test vs y_pred. Ideally, it should have been a **straight line**."
      ]
    },
    {
      "cell_type": "code",
      "metadata": {
        "id": "xgCca5LkRVYy",
        "colab_type": "code",
        "outputId": "80fea503-e51c-4ee3-88f1-c5854a51edd1",
        "colab": {
          "base_uri": "https://localhost:8080/",
          "height": 265
        }
      },
      "source": [
        "plt.scatter(y_test, y_pred)\n",
        "plt.show()"
      ],
      "execution_count": 38,
      "outputs": [
        {
          "output_type": "display_data",
          "data": {
            "image/png": "[encoded data removed]",
            "text/plain": [
              "<Figure size 432x288 with 1 Axes>"
            ]
          },
          "metadata": {
            "tags": []
          }
        }
      ]
    },
    {
      "cell_type": "markdown",
      "metadata": {
        "id": "7DPw73OwM6sX",
        "colab_type": "text"
      },
      "source": [
        "To evaluate the model in detail, we will use the R2-score."
      ]
    },
    {
      "cell_type": "code",
      "metadata": {
        "id": "wPz8-XigPjeR",
        "colab_type": "code",
        "outputId": "65d52216-ae10-443d-9f29-5aaf553f1919",
        "colab": {
          "base_uri": "https://localhost:8080/",
          "height": 143
        }
      },
      "source": [
        "from sklearn.metrics import r2_score\n",
        "\n",
        "y_pred_train = model.predict(X_train)\n",
        "\n",
        "r2 = r2_score(y_train, y_pred_train)\n",
        "print(\"The model performance for training set\")\n",
        "print(\"--------------------------------------\")\n",
        "print('R2 score is {}'.format(r2))\n",
        "\n",
        "r2T = r2_score(y_test, y_pred)\n",
        "print(\"\\nThe model performance for testing set\")\n",
        "print(\"--------------------------------------\")\n",
        "print('R2 score is {}'.format(r2T))"
      ],
      "execution_count": 39,
      "outputs": [
        {
          "output_type": "stream",
          "text": [
            "The model performance for training set\n",
            "--------------------------------------\n",
            "R2 score is 0.6222162281754451\n",
            "\n",
            "The model performance for testing set\n",
            "--------------------------------------\n",
            "R2 score is 0.700683951997074\n"
          ],
          "name": "stdout"
        }
      ]
    },
    {
      "cell_type": "markdown",
      "metadata": {
        "id": "4kxsuc6RQsWS",
        "colab_type": "text"
      },
      "source": [
        "This implies **70.01%** of variation is explained by the target variable.\n",
        "\n",
        "We will try to improve the accuracy of a model."
      ]
    },
    {
      "cell_type": "markdown",
      "metadata": {
        "id": "pQzXKhBJU1Ka",
        "colab_type": "text"
      },
      "source": [
        "## **Improving the model**"
      ]
    },
    {
      "cell_type": "markdown",
      "metadata": {
        "id": "xGkDl_gDy5cO",
        "colab_type": "text"
      },
      "source": [
        "### **Preprocessing the data**"
      ]
    },
    {
      "cell_type": "markdown",
      "metadata": {
        "id": "RJVMkQ27U5iW",
        "colab_type": "text"
      },
      "source": [
        "#### **Removing outliers**"
      ]
    },
    {
      "cell_type": "markdown",
      "metadata": {
        "id": "lgRKsroMU7ml",
        "colab_type": "text"
      },
      "source": [
        "We will use a Z-score function defined in scipy library to detect the outliers and remove them."
      ]
    },
    {
      "cell_type": "code",
      "metadata": {
        "id": "_EXOH8OG0OOZ",
        "colab_type": "code",
        "colab": {}
      },
      "source": [
        "from scipy import stats\n",
        "\n",
        "z = np.abs(stats.zscore(boston))\n",
        "threshold = 3\n",
        "boston_new = boston[(z < 3).all(axis=1)]"
      ],
      "execution_count": 0,
      "outputs": []
    },
    {
      "cell_type": "markdown",
      "metadata": {
        "id": "NdhEbJtd2XMU",
        "colab_type": "text"
      },
      "source": [
        "We removed data that had z score greater than 3.<br>Let's see the results."
      ]
    },
    {
      "cell_type": "code",
      "metadata": {
        "id": "Sg_GoxAl2gIH",
        "colab_type": "code",
        "outputId": "c4520777-cc57-4836-d7fb-c8d6ade52311",
        "colab": {
          "base_uri": "https://localhost:8080/",
          "height": 53
        }
      },
      "source": [
        "print(boston.shape)\n",
        "print(boston_new.shape)"
      ],
      "execution_count": 41,
      "outputs": [
        {
          "output_type": "stream",
          "text": [
            "(404, 14)\n",
            "(329, 14)\n"
          ],
          "name": "stdout"
        }
      ]
    },
    {
      "cell_type": "markdown",
      "metadata": {
        "id": "gGVN1yUm3BCf",
        "colab_type": "text"
      },
      "source": [
        "We will now train the model with our modified set."
      ]
    },
    {
      "cell_type": "code",
      "metadata": {
        "id": "5rqh-AXK3J3s",
        "colab_type": "code",
        "colab": {}
      },
      "source": [
        "X_train_new = pd.DataFrame(np.c_[boston_new['RM'], boston_new['LSTAT']], columns = ['RM','LSTAT'])\n",
        "Y_train_new = pd.DataFrame(np.c_[boston_new['MEDV']], columns = ['MEDV'])"
      ],
      "execution_count": 0,
      "outputs": []
    },
    {
      "cell_type": "code",
      "metadata": {
        "id": "x6-vtuNr3g0L",
        "colab_type": "code",
        "outputId": "f2dcb8f6-61e5-4eb8-8dad-2e23947cb1d6",
        "colab": {
          "base_uri": "https://localhost:8080/",
          "height": 35
        }
      },
      "source": [
        "model2 = LinearRegression()\n",
        "model2.fit(X_train_new, Y_train_new)"
      ],
      "execution_count": 43,
      "outputs": [
        {
          "output_type": "execute_result",
          "data": {
            "text/plain": [
              "LinearRegression(copy_X=True, fit_intercept=True, n_jobs=None, normalize=False)"
            ]
          },
          "metadata": {
            "tags": []
          },
          "execution_count": 43
        }
      ]
    },
    {
      "cell_type": "markdown",
      "metadata": {
        "id": "PipHeyBe5H18",
        "colab_type": "text"
      },
      "source": [
        "##### **Results: outliers removed**"
      ]
    },
    {
      "cell_type": "markdown",
      "metadata": {
        "id": "R0XPB0MX4pLR",
        "colab_type": "text"
      },
      "source": [
        "We will use the R2-score to evaluate the model in detail."
      ]
    },
    {
      "cell_type": "code",
      "metadata": {
        "id": "j9sdmQub4EqZ",
        "colab_type": "code",
        "outputId": "60a40cba-b39b-4e23-de9c-80609d62d8b9",
        "colab": {
          "base_uri": "https://localhost:8080/",
          "height": 143
        }
      },
      "source": [
        "y_pred_train_new = model2.predict(X_train_new)\n",
        "y_pred_test_new = model2.predict(X_test)\n",
        "\n",
        "r2 = r2_score(Y_train_new, y_pred_train_new)\n",
        "print(\"The model performance for training set\")\n",
        "print(\"--------------------------------------\")\n",
        "print('R2 score is {}'.format(r2))\n",
        "\n",
        "r2T = r2_score(y_test, y_pred_test_new)\n",
        "print(\"\\nThe model performance for testing set\")\n",
        "print(\"--------------------------------------\")\n",
        "print('R2 score is {}'.format(r2T))"
      ],
      "execution_count": 44,
      "outputs": [
        {
          "output_type": "stream",
          "text": [
            "The model performance for training set\n",
            "--------------------------------------\n",
            "R2 score is 0.6901016853316007\n",
            "\n",
            "The model performance for testing set\n",
            "--------------------------------------\n",
            "R2 score is 0.6847957414651276\n"
          ],
          "name": "stdout"
        }
      ]
    },
    {
      "cell_type": "markdown",
      "metadata": {
        "id": "YJHOEg_X4tDM",
        "colab_type": "text"
      },
      "source": [
        "It seems that the accuracy of our training set has improved by 7%, but the overall accuracy is still under 70%.\n",
        "\n",
        "We will now standardize the data and see if it has any significant effects in our model."
      ]
    },
    {
      "cell_type": "markdown",
      "metadata": {
        "id": "8VowRIhZAJLi",
        "colab_type": "text"
      },
      "source": [
        "#### **Standardization**"
      ]
    },
    {
      "cell_type": "markdown",
      "metadata": {
        "id": "Y2oVwzrpAMlO",
        "colab_type": "text"
      },
      "source": [
        "We will standardize the data by using StandardScaler."
      ]
    },
    {
      "cell_type": "code",
      "metadata": {
        "id": "MmEmrdIFAVas",
        "colab_type": "code",
        "colab": {}
      },
      "source": [
        "from sklearn.preprocessing import StandardScaler\n",
        "\n",
        "scaler = StandardScaler()\n",
        "X_train_scaled = scaler.fit_transform(X_train_new)\n",
        "X_test_scaled = scaler.transform(X_test)"
      ],
      "execution_count": 0,
      "outputs": []
    },
    {
      "cell_type": "markdown",
      "metadata": {
        "id": "-_1KIu7QA0iI",
        "colab_type": "text"
      },
      "source": [
        "Now we will trian the model with standardized data sets."
      ]
    },
    {
      "cell_type": "code",
      "metadata": {
        "id": "zWXjAvjwAttt",
        "colab_type": "code",
        "outputId": "f7694f03-5160-4bb9-9b99-bd4ad9621317",
        "colab": {
          "base_uri": "https://localhost:8080/",
          "height": 35
        }
      },
      "source": [
        "model3 = LinearRegression()\n",
        "model3.fit(X_train_scaled, Y_train_new)"
      ],
      "execution_count": 46,
      "outputs": [
        {
          "output_type": "execute_result",
          "data": {
            "text/plain": [
              "LinearRegression(copy_X=True, fit_intercept=True, n_jobs=None, normalize=False)"
            ]
          },
          "metadata": {
            "tags": []
          },
          "execution_count": 46
        }
      ]
    },
    {
      "cell_type": "markdown",
      "metadata": {
        "id": "GUaNVCXJDacE",
        "colab_type": "text"
      },
      "source": [
        "##### **Results: Standarization**"
      ]
    },
    {
      "cell_type": "markdown",
      "metadata": {
        "id": "pi03G1ADA7l7",
        "colab_type": "text"
      },
      "source": [
        "We will use the R2-score to evaluate the model in detail."
      ]
    },
    {
      "cell_type": "code",
      "metadata": {
        "id": "1SkcPcKbA8x7",
        "colab_type": "code",
        "outputId": "488f7fe1-c73c-48cd-868a-fe16102c2cbb",
        "colab": {
          "base_uri": "https://localhost:8080/",
          "height": 143
        }
      },
      "source": [
        "y_pred_train_new_scaled = model3.predict(X_train_scaled)\n",
        "y_pred_test_new_scaled = model3.predict(X_test_scaled)\n",
        "\n",
        "r2 = r2_score(Y_train_new, y_pred_train_new_scaled)\n",
        "print(\"The model performance for training set\")\n",
        "print(\"--------------------------------------\")\n",
        "print('R2 score is {}'.format(r2))\n",
        "\n",
        "r2T = r2_score(y_test, y_pred_test_new_scaled)\n",
        "print(\"\\nThe model performance for testing set\")\n",
        "print(\"--------------------------------------\")\n",
        "print('R2 score is {}'.format(r2T))"
      ],
      "execution_count": 47,
      "outputs": [
        {
          "output_type": "stream",
          "text": [
            "The model performance for training set\n",
            "--------------------------------------\n",
            "R2 score is 0.6901016853316007\n",
            "\n",
            "The model performance for testing set\n",
            "--------------------------------------\n",
            "R2 score is 0.684795741465127\n"
          ],
          "name": "stdout"
        }
      ]
    },
    {
      "cell_type": "markdown",
      "metadata": {
        "id": "-KiB_LwwDf2B",
        "colab_type": "text"
      },
      "source": [
        "## **Conclusion**"
      ]
    },
    {
      "cell_type": "markdown",
      "metadata": {
        "id": "9RyugItgCUAO",
        "colab_type": "text"
      },
      "source": [
        "There were no significant change in model's accuracy.\n",
        "\n",
        "There can be various reasons why we are getting low accuracy. I believe this might be happening because there are only a small number of samples that can be used to train the model or there are other features that decide the price of a house that are not in this data set."
      ]
    }
  ]
}